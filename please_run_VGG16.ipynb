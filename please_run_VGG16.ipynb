{
  "nbformat": 4,
  "nbformat_minor": 0,
  "metadata": {
    "colab": {
      "name": "please run VGG16.ipynb",
      "provenance": [],
      "collapsed_sections": [],
      "machine_shape": "hm",
      "include_colab_link": true
    },
    "kernelspec": {
      "name": "python3",
      "display_name": "Python 3"
    },
    "accelerator": "GPU",
    "widgets": {
      "application/vnd.jupyter.widget-state+json": {
        "f83575dd16ff43c9bf6cda8b8e8cc281": {
          "model_module": "@jupyter-widgets/controls",
          "model_name": "HBoxModel",
          "state": {
            "_view_name": "HBoxView",
            "_dom_classes": [],
            "_model_name": "HBoxModel",
            "_view_module": "@jupyter-widgets/controls",
            "_model_module_version": "1.5.0",
            "_view_count": null,
            "_view_module_version": "1.5.0",
            "box_style": "",
            "layout": "IPY_MODEL_248ead2a773f49d598d81d277d4f9bc9",
            "_model_module": "@jupyter-widgets/controls",
            "children": [
              "IPY_MODEL_7d4104c2b8d44cb9b4a83b9182698cb4",
              "IPY_MODEL_98c68d5969b54a87a4a0bc6b008f84b6"
            ]
          }
        },
        "248ead2a773f49d598d81d277d4f9bc9": {
          "model_module": "@jupyter-widgets/base",
          "model_name": "LayoutModel",
          "state": {
            "_view_name": "LayoutView",
            "grid_template_rows": null,
            "right": null,
            "justify_content": null,
            "_view_module": "@jupyter-widgets/base",
            "overflow": null,
            "_model_module_version": "1.2.0",
            "_view_count": null,
            "flex_flow": null,
            "width": null,
            "min_width": null,
            "border": null,
            "align_items": null,
            "bottom": null,
            "_model_module": "@jupyter-widgets/base",
            "top": null,
            "grid_column": null,
            "overflow_y": null,
            "overflow_x": null,
            "grid_auto_flow": null,
            "grid_area": null,
            "grid_template_columns": null,
            "flex": null,
            "_model_name": "LayoutModel",
            "justify_items": null,
            "grid_row": null,
            "max_height": null,
            "align_content": null,
            "visibility": null,
            "align_self": null,
            "height": null,
            "min_height": null,
            "padding": null,
            "grid_auto_rows": null,
            "grid_gap": null,
            "max_width": null,
            "order": null,
            "_view_module_version": "1.2.0",
            "grid_template_areas": null,
            "object_position": null,
            "object_fit": null,
            "grid_auto_columns": null,
            "margin": null,
            "display": null,
            "left": null
          }
        },
        "7d4104c2b8d44cb9b4a83b9182698cb4": {
          "model_module": "@jupyter-widgets/controls",
          "model_name": "IntProgressModel",
          "state": {
            "_view_name": "ProgressView",
            "style": "IPY_MODEL_538aaf20174b4775be498dd63567519b",
            "_dom_classes": [],
            "description": "",
            "_model_name": "IntProgressModel",
            "bar_style": "success",
            "max": 1,
            "_view_module": "@jupyter-widgets/controls",
            "_model_module_version": "1.5.0",
            "value": 1,
            "_view_count": null,
            "_view_module_version": "1.5.0",
            "orientation": "horizontal",
            "min": 0,
            "description_tooltip": null,
            "_model_module": "@jupyter-widgets/controls",
            "layout": "IPY_MODEL_4abd85c814ae440c8785f9879245d286"
          }
        },
        "98c68d5969b54a87a4a0bc6b008f84b6": {
          "model_module": "@jupyter-widgets/controls",
          "model_name": "HTMLModel",
          "state": {
            "_view_name": "HTMLView",
            "style": "IPY_MODEL_39a5e94aaaef466f837cf8d7dc66c171",
            "_dom_classes": [],
            "description": "",
            "_model_name": "HTMLModel",
            "placeholder": "​",
            "_view_module": "@jupyter-widgets/controls",
            "_model_module_version": "1.5.0",
            "value": "11537it [00:32, 356.42it/s]",
            "_view_count": null,
            "_view_module_version": "1.5.0",
            "description_tooltip": null,
            "_model_module": "@jupyter-widgets/controls",
            "layout": "IPY_MODEL_97dca1024af74a3a9635c859bf343a18"
          }
        },
        "538aaf20174b4775be498dd63567519b": {
          "model_module": "@jupyter-widgets/controls",
          "model_name": "ProgressStyleModel",
          "state": {
            "_view_name": "StyleView",
            "_model_name": "ProgressStyleModel",
            "description_width": "",
            "_view_module": "@jupyter-widgets/base",
            "_model_module_version": "1.5.0",
            "_view_count": null,
            "_view_module_version": "1.2.0",
            "bar_color": null,
            "_model_module": "@jupyter-widgets/controls"
          }
        },
        "4abd85c814ae440c8785f9879245d286": {
          "model_module": "@jupyter-widgets/base",
          "model_name": "LayoutModel",
          "state": {
            "_view_name": "LayoutView",
            "grid_template_rows": null,
            "right": null,
            "justify_content": null,
            "_view_module": "@jupyter-widgets/base",
            "overflow": null,
            "_model_module_version": "1.2.0",
            "_view_count": null,
            "flex_flow": null,
            "width": null,
            "min_width": null,
            "border": null,
            "align_items": null,
            "bottom": null,
            "_model_module": "@jupyter-widgets/base",
            "top": null,
            "grid_column": null,
            "overflow_y": null,
            "overflow_x": null,
            "grid_auto_flow": null,
            "grid_area": null,
            "grid_template_columns": null,
            "flex": null,
            "_model_name": "LayoutModel",
            "justify_items": null,
            "grid_row": null,
            "max_height": null,
            "align_content": null,
            "visibility": null,
            "align_self": null,
            "height": null,
            "min_height": null,
            "padding": null,
            "grid_auto_rows": null,
            "grid_gap": null,
            "max_width": null,
            "order": null,
            "_view_module_version": "1.2.0",
            "grid_template_areas": null,
            "object_position": null,
            "object_fit": null,
            "grid_auto_columns": null,
            "margin": null,
            "display": null,
            "left": null
          }
        },
        "39a5e94aaaef466f837cf8d7dc66c171": {
          "model_module": "@jupyter-widgets/controls",
          "model_name": "DescriptionStyleModel",
          "state": {
            "_view_name": "StyleView",
            "_model_name": "DescriptionStyleModel",
            "description_width": "",
            "_view_module": "@jupyter-widgets/base",
            "_model_module_version": "1.5.0",
            "_view_count": null,
            "_view_module_version": "1.2.0",
            "_model_module": "@jupyter-widgets/controls"
          }
        },
        "97dca1024af74a3a9635c859bf343a18": {
          "model_module": "@jupyter-widgets/base",
          "model_name": "LayoutModel",
          "state": {
            "_view_name": "LayoutView",
            "grid_template_rows": null,
            "right": null,
            "justify_content": null,
            "_view_module": "@jupyter-widgets/base",
            "overflow": null,
            "_model_module_version": "1.2.0",
            "_view_count": null,
            "flex_flow": null,
            "width": null,
            "min_width": null,
            "border": null,
            "align_items": null,
            "bottom": null,
            "_model_module": "@jupyter-widgets/base",
            "top": null,
            "grid_column": null,
            "overflow_y": null,
            "overflow_x": null,
            "grid_auto_flow": null,
            "grid_area": null,
            "grid_template_columns": null,
            "flex": null,
            "_model_name": "LayoutModel",
            "justify_items": null,
            "grid_row": null,
            "max_height": null,
            "align_content": null,
            "visibility": null,
            "align_self": null,
            "height": null,
            "min_height": null,
            "padding": null,
            "grid_auto_rows": null,
            "grid_gap": null,
            "max_width": null,
            "order": null,
            "_view_module_version": "1.2.0",
            "grid_template_areas": null,
            "object_position": null,
            "object_fit": null,
            "grid_auto_columns": null,
            "margin": null,
            "display": null,
            "left": null
          }
        }
      }
    }
  },
  "cells": [
    {
      "cell_type": "markdown",
      "metadata": {
        "id": "view-in-github",
        "colab_type": "text"
      },
      "source": [
        "<a href=\"https://colab.research.google.com/github/sridevibonthu/trails/blob/master/please_run_VGG16.ipynb\" target=\"_parent\"><img src=\"https://colab.research.google.com/assets/colab-badge.svg\" alt=\"Open In Colab\"/></a>"
      ]
    },
    {
      "cell_type": "code",
      "metadata": {
        "id": "YC-FHTkme07F",
        "colab_type": "code",
        "outputId": "ac1677bd-b86b-4215-bf23-c36ff697efed",
        "colab": {
          "base_uri": "https://localhost:8080/",
          "height": 122
        }
      },
      "source": [
        "# mount gdrive and unzip data\n",
        "from google.colab import drive\n",
        "drive.mount('/content/gdrive')"
      ],
      "execution_count": 0,
      "outputs": [
        {
          "output_type": "stream",
          "text": [
            "Go to this URL in a browser: https://accounts.google.com/o/oauth2/auth?client_id=947318989803-6bn6qk8qdgf4n4g3pfee6491hc0brc4i.apps.googleusercontent.com&redirect_uri=urn%3aietf%3awg%3aoauth%3a2.0%3aoob&response_type=code&scope=email%20https%3a%2f%2fwww.googleapis.com%2fauth%2fdocs.test%20https%3a%2f%2fwww.googleapis.com%2fauth%2fdrive%20https%3a%2f%2fwww.googleapis.com%2fauth%2fdrive.photos.readonly%20https%3a%2f%2fwww.googleapis.com%2fauth%2fpeopleapi.readonly\n",
            "\n",
            "Enter your authorization code:\n",
            "··········\n",
            "Mounted at /content/gdrive\n"
          ],
          "name": "stdout"
        }
      ]
    },
    {
      "cell_type": "code",
      "metadata": {
        "id": "Y5P62BM4fCb7",
        "colab_type": "code",
        "outputId": "7ed09e80-6c62-4a57-d84e-6e38017cc021",
        "colab": {
          "base_uri": "https://localhost:8080/",
          "height": 34
        }
      },
      "source": [
        "!unzip -q \"/content/gdrive/My Drive/Assignment5/hvc_data.zip\"\n",
        "# look for `hvc_annotations.csv` file and `resized` dir\n",
        "%ls "
      ],
      "execution_count": 0,
      "outputs": [
        {
          "output_type": "stream",
          "text": [
            "\u001b[0m\u001b[01;34mgdrive\u001b[0m/  hvc_annotations.csv  \u001b[01;34mresized\u001b[0m/  \u001b[01;34msample_data\u001b[0m/\n"
          ],
          "name": "stdout"
        }
      ]
    },
    {
      "cell_type": "code",
      "metadata": {
        "id": "qU-y3amgfMiO",
        "colab_type": "code",
        "outputId": "65c2b361-6fb4-42b3-8310-d6efbe2ea184",
        "colab": {
          "base_uri": "https://localhost:8080/",
          "height": 34
        }
      },
      "source": [
        "%tensorflow_version 1.x\n",
        "\n",
        "import cv2\n",
        "import json\n",
        "\n",
        "import numpy as np\n",
        "import pandas as pd\n",
        "\n",
        "from functools import partial\n",
        "from pathlib import Path \n",
        "from tqdm import tqdm\n",
        "\n",
        "from google.colab.patches import cv2_imshow\n",
        "\n",
        "from sklearn.model_selection import train_test_split\n",
        "from sklearn.preprocessing import LabelEncoder, OneHotEncoder\n",
        "\n",
        "\n",
        "from keras.layers.core import Dropout\n",
        "from keras.layers.core import Flatten\n",
        "from keras.layers.core import Dense\n",
        "from keras.layers import Input\n",
        "from keras.models import Model\n",
        "from keras.optimizers import SGD\n",
        "from keras.preprocessing.image import ImageDataGenerator"
      ],
      "execution_count": 0,
      "outputs": [
        {
          "output_type": "stream",
          "text": [
            "Using TensorFlow backend.\n"
          ],
          "name": "stderr"
        }
      ]
    },
    {
      "cell_type": "code",
      "metadata": {
        "id": "eOyDFquJfRKV",
        "colab_type": "code",
        "outputId": "70b83e9b-c801-42b8-855b-de04ee0f539b",
        "colab": {
          "base_uri": "https://localhost:8080/",
          "height": 204
        }
      },
      "source": [
        "# load annotations\n",
        "df = pd.read_csv(\"hvc_annotations.csv\")\n",
        "del df[\"filename\"] # remove unwanted column\n",
        "df.head()"
      ],
      "execution_count": 0,
      "outputs": [
        {
          "output_type": "execute_result",
          "data": {
            "text/html": [
              "<div>\n",
              "<style scoped>\n",
              "    .dataframe tbody tr th:only-of-type {\n",
              "        vertical-align: middle;\n",
              "    }\n",
              "\n",
              "    .dataframe tbody tr th {\n",
              "        vertical-align: top;\n",
              "    }\n",
              "\n",
              "    .dataframe thead th {\n",
              "        text-align: right;\n",
              "    }\n",
              "</style>\n",
              "<table border=\"1\" class=\"dataframe\">\n",
              "  <thead>\n",
              "    <tr style=\"text-align: right;\">\n",
              "      <th></th>\n",
              "      <th>gender</th>\n",
              "      <th>imagequality</th>\n",
              "      <th>age</th>\n",
              "      <th>weight</th>\n",
              "      <th>carryingbag</th>\n",
              "      <th>footwear</th>\n",
              "      <th>emotion</th>\n",
              "      <th>bodypose</th>\n",
              "      <th>image_path</th>\n",
              "    </tr>\n",
              "  </thead>\n",
              "  <tbody>\n",
              "    <tr>\n",
              "      <th>0</th>\n",
              "      <td>male</td>\n",
              "      <td>Average</td>\n",
              "      <td>35-45</td>\n",
              "      <td>normal-healthy</td>\n",
              "      <td>Grocery/Home/Plastic Bag</td>\n",
              "      <td>Normal</td>\n",
              "      <td>Neutral</td>\n",
              "      <td>Front-Frontish</td>\n",
              "      <td>resized/1.jpg</td>\n",
              "    </tr>\n",
              "    <tr>\n",
              "      <th>1</th>\n",
              "      <td>female</td>\n",
              "      <td>Average</td>\n",
              "      <td>35-45</td>\n",
              "      <td>over-weight</td>\n",
              "      <td>None</td>\n",
              "      <td>Normal</td>\n",
              "      <td>Angry/Serious</td>\n",
              "      <td>Front-Frontish</td>\n",
              "      <td>resized/2.jpg</td>\n",
              "    </tr>\n",
              "    <tr>\n",
              "      <th>2</th>\n",
              "      <td>male</td>\n",
              "      <td>Good</td>\n",
              "      <td>45-55</td>\n",
              "      <td>normal-healthy</td>\n",
              "      <td>Grocery/Home/Plastic Bag</td>\n",
              "      <td>CantSee</td>\n",
              "      <td>Neutral</td>\n",
              "      <td>Front-Frontish</td>\n",
              "      <td>resized/3.jpg</td>\n",
              "    </tr>\n",
              "    <tr>\n",
              "      <th>3</th>\n",
              "      <td>male</td>\n",
              "      <td>Good</td>\n",
              "      <td>45-55</td>\n",
              "      <td>normal-healthy</td>\n",
              "      <td>Daily/Office/Work Bag</td>\n",
              "      <td>Normal</td>\n",
              "      <td>Neutral</td>\n",
              "      <td>Front-Frontish</td>\n",
              "      <td>resized/4.jpg</td>\n",
              "    </tr>\n",
              "    <tr>\n",
              "      <th>4</th>\n",
              "      <td>female</td>\n",
              "      <td>Good</td>\n",
              "      <td>35-45</td>\n",
              "      <td>slightly-overweight</td>\n",
              "      <td>None</td>\n",
              "      <td>CantSee</td>\n",
              "      <td>Neutral</td>\n",
              "      <td>Front-Frontish</td>\n",
              "      <td>resized/5.jpg</td>\n",
              "    </tr>\n",
              "  </tbody>\n",
              "</table>\n",
              "</div>"
            ],
            "text/plain": [
              "   gender imagequality    age  ...        emotion        bodypose     image_path\n",
              "0    male      Average  35-45  ...        Neutral  Front-Frontish  resized/1.jpg\n",
              "1  female      Average  35-45  ...  Angry/Serious  Front-Frontish  resized/2.jpg\n",
              "2    male         Good  45-55  ...        Neutral  Front-Frontish  resized/3.jpg\n",
              "3    male         Good  45-55  ...        Neutral  Front-Frontish  resized/4.jpg\n",
              "4  female         Good  35-45  ...        Neutral  Front-Frontish  resized/5.jpg\n",
              "\n",
              "[5 rows x 9 columns]"
            ]
          },
          "metadata": {
            "tags": []
          },
          "execution_count": 5
        }
      ]
    },
    {
      "cell_type": "code",
      "metadata": {
        "id": "2yDRFScUfVMG",
        "colab_type": "code",
        "outputId": "39ed8f8f-87d2-405e-87a9-5fefa08009a5",
        "colab": {
          "base_uri": "https://localhost:8080/",
          "height": 917
        }
      },
      "source": [
        "# one hot encoding of labels\n",
        "\n",
        "one_hot_df = pd.concat([\n",
        "    df[[\"image_path\"]],\n",
        "    pd.get_dummies(df.gender, prefix=\"gender\"),\n",
        "    pd.get_dummies(df.imagequality, prefix=\"imagequality\"),\n",
        "    pd.get_dummies(df.age, prefix=\"age\"),\n",
        "    pd.get_dummies(df.weight, prefix=\"weight\"),\n",
        "    pd.get_dummies(df.carryingbag, prefix=\"carryingbag\"),\n",
        "    pd.get_dummies(df.footwear, prefix=\"footwear\"),\n",
        "    pd.get_dummies(df.emotion, prefix=\"emotion\"),\n",
        "    pd.get_dummies(df.bodypose, prefix=\"bodypose\"),\n",
        "], axis = 1)\n",
        "\n",
        "one_hot_df.head().T"
      ],
      "execution_count": 0,
      "outputs": [
        {
          "output_type": "execute_result",
          "data": {
            "text/html": [
              "<div>\n",
              "<style scoped>\n",
              "    .dataframe tbody tr th:only-of-type {\n",
              "        vertical-align: middle;\n",
              "    }\n",
              "\n",
              "    .dataframe tbody tr th {\n",
              "        vertical-align: top;\n",
              "    }\n",
              "\n",
              "    .dataframe thead th {\n",
              "        text-align: right;\n",
              "    }\n",
              "</style>\n",
              "<table border=\"1\" class=\"dataframe\">\n",
              "  <thead>\n",
              "    <tr style=\"text-align: right;\">\n",
              "      <th></th>\n",
              "      <th>0</th>\n",
              "      <th>1</th>\n",
              "      <th>2</th>\n",
              "      <th>3</th>\n",
              "      <th>4</th>\n",
              "    </tr>\n",
              "  </thead>\n",
              "  <tbody>\n",
              "    <tr>\n",
              "      <th>image_path</th>\n",
              "      <td>resized/1.jpg</td>\n",
              "      <td>resized/2.jpg</td>\n",
              "      <td>resized/3.jpg</td>\n",
              "      <td>resized/4.jpg</td>\n",
              "      <td>resized/5.jpg</td>\n",
              "    </tr>\n",
              "    <tr>\n",
              "      <th>gender_female</th>\n",
              "      <td>0</td>\n",
              "      <td>1</td>\n",
              "      <td>0</td>\n",
              "      <td>0</td>\n",
              "      <td>1</td>\n",
              "    </tr>\n",
              "    <tr>\n",
              "      <th>gender_male</th>\n",
              "      <td>1</td>\n",
              "      <td>0</td>\n",
              "      <td>1</td>\n",
              "      <td>1</td>\n",
              "      <td>0</td>\n",
              "    </tr>\n",
              "    <tr>\n",
              "      <th>imagequality_Average</th>\n",
              "      <td>1</td>\n",
              "      <td>1</td>\n",
              "      <td>0</td>\n",
              "      <td>0</td>\n",
              "      <td>0</td>\n",
              "    </tr>\n",
              "    <tr>\n",
              "      <th>imagequality_Bad</th>\n",
              "      <td>0</td>\n",
              "      <td>0</td>\n",
              "      <td>0</td>\n",
              "      <td>0</td>\n",
              "      <td>0</td>\n",
              "    </tr>\n",
              "    <tr>\n",
              "      <th>imagequality_Good</th>\n",
              "      <td>0</td>\n",
              "      <td>0</td>\n",
              "      <td>1</td>\n",
              "      <td>1</td>\n",
              "      <td>1</td>\n",
              "    </tr>\n",
              "    <tr>\n",
              "      <th>age_15-25</th>\n",
              "      <td>0</td>\n",
              "      <td>0</td>\n",
              "      <td>0</td>\n",
              "      <td>0</td>\n",
              "      <td>0</td>\n",
              "    </tr>\n",
              "    <tr>\n",
              "      <th>age_25-35</th>\n",
              "      <td>0</td>\n",
              "      <td>0</td>\n",
              "      <td>0</td>\n",
              "      <td>0</td>\n",
              "      <td>0</td>\n",
              "    </tr>\n",
              "    <tr>\n",
              "      <th>age_35-45</th>\n",
              "      <td>1</td>\n",
              "      <td>1</td>\n",
              "      <td>0</td>\n",
              "      <td>0</td>\n",
              "      <td>1</td>\n",
              "    </tr>\n",
              "    <tr>\n",
              "      <th>age_45-55</th>\n",
              "      <td>0</td>\n",
              "      <td>0</td>\n",
              "      <td>1</td>\n",
              "      <td>1</td>\n",
              "      <td>0</td>\n",
              "    </tr>\n",
              "    <tr>\n",
              "      <th>age_55+</th>\n",
              "      <td>0</td>\n",
              "      <td>0</td>\n",
              "      <td>0</td>\n",
              "      <td>0</td>\n",
              "      <td>0</td>\n",
              "    </tr>\n",
              "    <tr>\n",
              "      <th>weight_normal-healthy</th>\n",
              "      <td>1</td>\n",
              "      <td>0</td>\n",
              "      <td>1</td>\n",
              "      <td>1</td>\n",
              "      <td>0</td>\n",
              "    </tr>\n",
              "    <tr>\n",
              "      <th>weight_over-weight</th>\n",
              "      <td>0</td>\n",
              "      <td>1</td>\n",
              "      <td>0</td>\n",
              "      <td>0</td>\n",
              "      <td>0</td>\n",
              "    </tr>\n",
              "    <tr>\n",
              "      <th>weight_slightly-overweight</th>\n",
              "      <td>0</td>\n",
              "      <td>0</td>\n",
              "      <td>0</td>\n",
              "      <td>0</td>\n",
              "      <td>1</td>\n",
              "    </tr>\n",
              "    <tr>\n",
              "      <th>weight_underweight</th>\n",
              "      <td>0</td>\n",
              "      <td>0</td>\n",
              "      <td>0</td>\n",
              "      <td>0</td>\n",
              "      <td>0</td>\n",
              "    </tr>\n",
              "    <tr>\n",
              "      <th>carryingbag_Daily/Office/Work Bag</th>\n",
              "      <td>0</td>\n",
              "      <td>0</td>\n",
              "      <td>0</td>\n",
              "      <td>1</td>\n",
              "      <td>0</td>\n",
              "    </tr>\n",
              "    <tr>\n",
              "      <th>carryingbag_Grocery/Home/Plastic Bag</th>\n",
              "      <td>1</td>\n",
              "      <td>0</td>\n",
              "      <td>1</td>\n",
              "      <td>0</td>\n",
              "      <td>0</td>\n",
              "    </tr>\n",
              "    <tr>\n",
              "      <th>carryingbag_None</th>\n",
              "      <td>0</td>\n",
              "      <td>1</td>\n",
              "      <td>0</td>\n",
              "      <td>0</td>\n",
              "      <td>1</td>\n",
              "    </tr>\n",
              "    <tr>\n",
              "      <th>footwear_CantSee</th>\n",
              "      <td>0</td>\n",
              "      <td>0</td>\n",
              "      <td>1</td>\n",
              "      <td>0</td>\n",
              "      <td>1</td>\n",
              "    </tr>\n",
              "    <tr>\n",
              "      <th>footwear_Fancy</th>\n",
              "      <td>0</td>\n",
              "      <td>0</td>\n",
              "      <td>0</td>\n",
              "      <td>0</td>\n",
              "      <td>0</td>\n",
              "    </tr>\n",
              "    <tr>\n",
              "      <th>footwear_Normal</th>\n",
              "      <td>1</td>\n",
              "      <td>1</td>\n",
              "      <td>0</td>\n",
              "      <td>1</td>\n",
              "      <td>0</td>\n",
              "    </tr>\n",
              "    <tr>\n",
              "      <th>emotion_Angry/Serious</th>\n",
              "      <td>0</td>\n",
              "      <td>1</td>\n",
              "      <td>0</td>\n",
              "      <td>0</td>\n",
              "      <td>0</td>\n",
              "    </tr>\n",
              "    <tr>\n",
              "      <th>emotion_Happy</th>\n",
              "      <td>0</td>\n",
              "      <td>0</td>\n",
              "      <td>0</td>\n",
              "      <td>0</td>\n",
              "      <td>0</td>\n",
              "    </tr>\n",
              "    <tr>\n",
              "      <th>emotion_Neutral</th>\n",
              "      <td>1</td>\n",
              "      <td>0</td>\n",
              "      <td>1</td>\n",
              "      <td>1</td>\n",
              "      <td>1</td>\n",
              "    </tr>\n",
              "    <tr>\n",
              "      <th>emotion_Sad</th>\n",
              "      <td>0</td>\n",
              "      <td>0</td>\n",
              "      <td>0</td>\n",
              "      <td>0</td>\n",
              "      <td>0</td>\n",
              "    </tr>\n",
              "    <tr>\n",
              "      <th>bodypose_Back</th>\n",
              "      <td>0</td>\n",
              "      <td>0</td>\n",
              "      <td>0</td>\n",
              "      <td>0</td>\n",
              "      <td>0</td>\n",
              "    </tr>\n",
              "    <tr>\n",
              "      <th>bodypose_Front-Frontish</th>\n",
              "      <td>1</td>\n",
              "      <td>1</td>\n",
              "      <td>1</td>\n",
              "      <td>1</td>\n",
              "      <td>1</td>\n",
              "    </tr>\n",
              "    <tr>\n",
              "      <th>bodypose_Side</th>\n",
              "      <td>0</td>\n",
              "      <td>0</td>\n",
              "      <td>0</td>\n",
              "      <td>0</td>\n",
              "      <td>0</td>\n",
              "    </tr>\n",
              "  </tbody>\n",
              "</table>\n",
              "</div>"
            ],
            "text/plain": [
              "                                                  0  ...              4\n",
              "image_path                            resized/1.jpg  ...  resized/5.jpg\n",
              "gender_female                                     0  ...              1\n",
              "gender_male                                       1  ...              0\n",
              "imagequality_Average                              1  ...              0\n",
              "imagequality_Bad                                  0  ...              0\n",
              "imagequality_Good                                 0  ...              1\n",
              "age_15-25                                         0  ...              0\n",
              "age_25-35                                         0  ...              0\n",
              "age_35-45                                         1  ...              1\n",
              "age_45-55                                         0  ...              0\n",
              "age_55+                                           0  ...              0\n",
              "weight_normal-healthy                             1  ...              0\n",
              "weight_over-weight                                0  ...              0\n",
              "weight_slightly-overweight                        0  ...              1\n",
              "weight_underweight                                0  ...              0\n",
              "carryingbag_Daily/Office/Work Bag                 0  ...              0\n",
              "carryingbag_Grocery/Home/Plastic Bag              1  ...              0\n",
              "carryingbag_None                                  0  ...              1\n",
              "footwear_CantSee                                  0  ...              1\n",
              "footwear_Fancy                                    0  ...              0\n",
              "footwear_Normal                                   1  ...              0\n",
              "emotion_Angry/Serious                             0  ...              0\n",
              "emotion_Happy                                     0  ...              0\n",
              "emotion_Neutral                                   1  ...              1\n",
              "emotion_Sad                                       0  ...              0\n",
              "bodypose_Back                                     0  ...              0\n",
              "bodypose_Front-Frontish                           1  ...              1\n",
              "bodypose_Side                                     0  ...              0\n",
              "\n",
              "[28 rows x 5 columns]"
            ]
          },
          "metadata": {
            "tags": []
          },
          "execution_count": 6
        }
      ]
    },
    {
      "cell_type": "code",
      "metadata": {
        "id": "vtdHmKPIfYMi",
        "colab_type": "code",
        "colab": {}
      },
      "source": [
        "import keras\n",
        "import numpy as np\n",
        "\n",
        "# Label columns per attribute\n",
        "_gender_cols_ = [col for col in one_hot_df.columns if col.startswith(\"gender\")]\n",
        "_imagequality_cols_ = [col for col in one_hot_df.columns if col.startswith(\"imagequality\")]\n",
        "_age_cols_ = [col for col in one_hot_df.columns if col.startswith(\"age\")]\n",
        "_weight_cols_ = [col for col in one_hot_df.columns if col.startswith(\"weight\")]\n",
        "_carryingbag_cols_ = [col for col in one_hot_df.columns if col.startswith(\"carryingbag\")]\n",
        "_footwear_cols_ = [col for col in one_hot_df.columns if col.startswith(\"footwear\")]\n",
        "_emotion_cols_ = [col for col in one_hot_df.columns if col.startswith(\"emotion\")]\n",
        "_bodypose_cols_ = [col for col in one_hot_df.columns if col.startswith(\"bodypose\")]"
      ],
      "execution_count": 0,
      "outputs": []
    },
    {
      "cell_type": "code",
      "metadata": {
        "id": "kj890b01gQYc",
        "colab_type": "code",
        "colab": {}
      },
      "source": [
        "import sys\n",
        "sys.path.append('/content/gdrive/My Drive/Assignment5')\n",
        "import clr\n",
        "import cutout"
      ],
      "execution_count": 0,
      "outputs": []
    },
    {
      "cell_type": "code",
      "metadata": {
        "id": "3tkmWa9dga4m",
        "colab_type": "code",
        "colab": {}
      },
      "source": [
        "\n",
        "def get_random_eraser(p=0.5, s_l=0.02, s_h=0.4, r_1=0.3, r_2=1/0.3, v_l=0, v_h=255, pixel_level=False):\n",
        "      def eraser(input_img):\n",
        "        img_h, img_w, img_c = input_img.shape\n",
        "        p_1 = np.random.rand()\n",
        "\n",
        "        if p_1 > p:\n",
        "            return input_img\n",
        "        while True:\n",
        "            s = np.random.uniform(s_l, s_h) * img_h * img_w\n",
        "            r = np.random.uniform(r_1, r_2)\n",
        "            w = int(np.sqrt(s / r))\n",
        "            h = int(np.sqrt(s * r))\n",
        "            left = np.random.randint(0, img_w)\n",
        "            top = np.random.randint(0, img_h)\n",
        "\n",
        "            if left + w <= img_w and top + h <= img_h:\n",
        "                break\n",
        "\n",
        "        if pixel_level:\n",
        "            c = np.random.uniform(v_l, v_h, (h, w, img_c))\n",
        "        else:\n",
        "            c = np.random.uniform(v_l, v_h)\n",
        "\n",
        "        input_img[top:top + h, left:left + w, :] = c\n",
        "\n",
        "        return input_img\n",
        "      return eraser\n",
        "\n",
        "class PersonDataGenerator(keras.utils.Sequence):\n",
        "    \"\"\"Ground truth data generator\"\"\"\n",
        "\n",
        "    \n",
        "    def __init__(self, df, train_mean, train_std, batch_size=32, shuffle=True, val=False):\n",
        "        self.df = df\n",
        "        self.batch_size=batch_size\n",
        "        self.shuffle = shuffle\n",
        "        self.on_epoch_end()\n",
        "        self.eraser = get_random_eraser()\n",
        "        self.train_mean = train_mean\n",
        "        self.val = val\n",
        "        self.train_std = train_std\n",
        "\n",
        "    def __len__(self):\n",
        "        return int(np.floor(self.df.shape[0] / self.batch_size))\n",
        "\n",
        "    def __getitem__(self, index):\n",
        "        \"\"\"fetch batched images and targets\"\"\"\n",
        "        batch_slice = slice(index * self.batch_size, (index + 1) * self.batch_size)\n",
        "        items = self.df.iloc[batch_slice]\n",
        "        images = []\n",
        "        for image in [cv2.imread(item[\"image_path\"]) for _, item in items.iterrows()]:\n",
        "          # normalize mean of 0 and stdev of 1\n",
        "          image = ((image-self.train_mean)/self.train_std).astype('float32')       \n",
        "\n",
        "          if not self.val:\n",
        "            image = self.eraser(image)\n",
        "\n",
        "\n",
        "          images.append(image)\n",
        "\n",
        "        images = np.stack(images, axis=0)\n",
        "        target = {\n",
        "            \"gender_output\": items[_gender_cols_].values,\n",
        "            \"image_quality_output\": items[_imagequality_cols_].values,\n",
        "            \"age_output\": items[_age_cols_].values,\n",
        "            \"weight_output\": items[_weight_cols_].values,\n",
        "            \"bag_output\": items[_carryingbag_cols_].values,\n",
        "            \"pose_output\": items[_bodypose_cols_].values,\n",
        "            \"footwear_output\": items[_footwear_cols_].values,\n",
        "            \"emotion_output\": items[_emotion_cols_].values,\n",
        "        }\n",
        "        return images, target\n",
        "\n",
        "    def on_epoch_end(self):\n",
        "        \"\"\"Updates indexes after each epoch\"\"\"\n",
        "        if self.shuffle == True:\n",
        "            self.df = self.df.sample(frac=1).reset_index(drop=True)\n",
        "\n"
      ],
      "execution_count": 0,
      "outputs": []
    },
    {
      "cell_type": "code",
      "metadata": {
        "id": "w0oMqD4ukG8d",
        "colab_type": "code",
        "outputId": "2eed024f-d359-4172-bd5f-6c290ce8cb9d",
        "colab": {
          "base_uri": "https://localhost:8080/",
          "height": 34
        }
      },
      "source": [
        "from sklearn.model_selection import train_test_split\n",
        "train_df, val_df = train_test_split(one_hot_df, test_size=0.15)\n",
        "train_df.shape, val_df.shape"
      ],
      "execution_count": 0,
      "outputs": [
        {
          "output_type": "execute_result",
          "data": {
            "text/plain": [
              "((11537, 28), (2036, 28))"
            ]
          },
          "metadata": {
            "tags": []
          },
          "execution_count": 10
        }
      ]
    },
    {
      "cell_type": "code",
      "metadata": {
        "id": "PEk1j2vjkLsi",
        "colab_type": "code",
        "outputId": "52e6e3cd-7410-49b3-be97-5bd9231c2f2b",
        "colab": {
          "base_uri": "https://localhost:8080/",
          "height": 83,
          "referenced_widgets": [
            "f83575dd16ff43c9bf6cda8b8e8cc281",
            "248ead2a773f49d598d81d277d4f9bc9",
            "7d4104c2b8d44cb9b4a83b9182698cb4",
            "98c68d5969b54a87a4a0bc6b008f84b6",
            "538aaf20174b4775be498dd63567519b",
            "4abd85c814ae440c8785f9879245d286",
            "39a5e94aaaef466f837cf8d7dc66c171",
            "97dca1024af74a3a9635c859bf343a18"
          ]
        }
      },
      "source": [
        "from tqdm import tnrange, tqdm_notebook\n",
        "n = 0\n",
        "s = np.zeros(3)\n",
        "sq = np.zeros(3)\n",
        "y = None\n",
        "for _, item in tqdm_notebook(train_df.iterrows()):\n",
        "  x = cv2.imread(item[\"image_path\"]).astype('double')\n",
        "  s += np.sum(x, axis=(0,1))\n",
        "  sq += np.sum(np.square(x), axis=(0,1))\n",
        "  n += x.shape[0]*x.shape[1]\n",
        "  y = x\n",
        "\n",
        "mu = s/n\n",
        "std = np.sqrt((sq/n - np.square(mu)))\n",
        "\n",
        "print(mu, std, n)"
      ],
      "execution_count": 0,
      "outputs": [
        {
          "output_type": "display_data",
          "data": {
            "application/vnd.jupyter.widget-view+json": {
              "model_id": "f83575dd16ff43c9bf6cda8b8e8cc281",
              "version_minor": 0,
              "version_major": 2
            },
            "text/plain": [
              "HBox(children=(IntProgress(value=1, bar_style='info', max=1), HTML(value='')))"
            ]
          },
          "metadata": {
            "tags": []
          }
        },
        {
          "output_type": "stream",
          "text": [
            "\n",
            "[41.26352222 41.47657651 46.5647948 ] [63.89415993 64.53129496 69.7487991 ] 578880512\n"
          ],
          "name": "stdout"
        }
      ]
    },
    {
      "cell_type": "code",
      "metadata": {
        "id": "Njdj06_rkQgU",
        "colab_type": "code",
        "colab": {}
      },
      "source": [
        "# create train and validation data generators\n",
        "train_gen = PersonDataGenerator(train_df, mu, std, batch_size=32)\n",
        "valid_gen = PersonDataGenerator(val_df, mu, std, batch_size=64, shuffle=False, val=True)"
      ],
      "execution_count": 0,
      "outputs": []
    },
    {
      "cell_type": "code",
      "metadata": {
        "id": "JS6LpMjikSjS",
        "colab_type": "code",
        "outputId": "77213e9d-2b21-413b-e09d-3a2ce0ce1942",
        "colab": {
          "base_uri": "https://localhost:8080/",
          "height": 153
        }
      },
      "source": [
        "# get number of output units from data\n",
        "images, targets = next(iter(train_gen))\n",
        "num_units = { k.split(\"_output\")[0]:v.shape[1] for k, v in targets.items()}\n",
        "num_units"
      ],
      "execution_count": 0,
      "outputs": [
        {
          "output_type": "execute_result",
          "data": {
            "text/plain": [
              "{'age': 5,\n",
              " 'bag': 3,\n",
              " 'emotion': 4,\n",
              " 'footwear': 3,\n",
              " 'gender': 2,\n",
              " 'image_quality': 3,\n",
              " 'pose': 3,\n",
              " 'weight': 4}"
            ]
          },
          "metadata": {
            "tags": []
          },
          "execution_count": 13
        }
      ]
    },
    {
      "cell_type": "code",
      "metadata": {
        "id": "u8mT3WS8kWYG",
        "colab_type": "code",
        "outputId": "5fc1bf8f-76f5-4c33-d688-5ee77a519e33",
        "colab": {
          "base_uri": "https://localhost:8080/",
          "height": 411
        }
      },
      "source": [
        "from keras.applications import VGG16\n",
        "backbone = VGG16(\n",
        "    weights=\"imagenet\", \n",
        "    include_top=False, \n",
        "    input_tensor=Input(shape=(224, 224, 3))\n",
        ")"
      ],
      "execution_count": 0,
      "outputs": [
        {
          "output_type": "stream",
          "text": [
            "WARNING:tensorflow:From /usr/local/lib/python3.6/dist-packages/keras/backend/tensorflow_backend.py:66: The name tf.get_default_graph is deprecated. Please use tf.compat.v1.get_default_graph instead.\n",
            "\n",
            "WARNING:tensorflow:From /usr/local/lib/python3.6/dist-packages/keras/backend/tensorflow_backend.py:541: The name tf.placeholder is deprecated. Please use tf.compat.v1.placeholder instead.\n",
            "\n",
            "WARNING:tensorflow:From /usr/local/lib/python3.6/dist-packages/keras/backend/tensorflow_backend.py:4432: The name tf.random_uniform is deprecated. Please use tf.random.uniform instead.\n",
            "\n",
            "WARNING:tensorflow:From /usr/local/lib/python3.6/dist-packages/keras/backend/tensorflow_backend.py:4267: The name tf.nn.max_pool is deprecated. Please use tf.nn.max_pool2d instead.\n",
            "\n",
            "Downloading data from https://github.com/fchollet/deep-learning-models/releases/download/v0.1/vgg16_weights_tf_dim_ordering_tf_kernels_notop.h5\n",
            "58892288/58889256 [==============================] - 2s 0us/step\n",
            "WARNING:tensorflow:From /usr/local/lib/python3.6/dist-packages/keras/backend/tensorflow_backend.py:190: The name tf.get_default_session is deprecated. Please use tf.compat.v1.get_default_session instead.\n",
            "\n",
            "WARNING:tensorflow:From /usr/local/lib/python3.6/dist-packages/keras/backend/tensorflow_backend.py:197: The name tf.ConfigProto is deprecated. Please use tf.compat.v1.ConfigProto instead.\n",
            "\n",
            "WARNING:tensorflow:From /usr/local/lib/python3.6/dist-packages/keras/backend/tensorflow_backend.py:203: The name tf.Session is deprecated. Please use tf.compat.v1.Session instead.\n",
            "\n",
            "WARNING:tensorflow:From /usr/local/lib/python3.6/dist-packages/keras/backend/tensorflow_backend.py:207: The name tf.global_variables is deprecated. Please use tf.compat.v1.global_variables instead.\n",
            "\n",
            "WARNING:tensorflow:From /usr/local/lib/python3.6/dist-packages/keras/backend/tensorflow_backend.py:216: The name tf.is_variable_initialized is deprecated. Please use tf.compat.v1.is_variable_initialized instead.\n",
            "\n",
            "WARNING:tensorflow:From /usr/local/lib/python3.6/dist-packages/keras/backend/tensorflow_backend.py:223: The name tf.variables_initializer is deprecated. Please use tf.compat.v1.variables_initializer instead.\n",
            "\n"
          ],
          "name": "stdout"
        }
      ]
    },
    {
      "cell_type": "code",
      "metadata": {
        "id": "0e3V5jpdrtwb",
        "colab_type": "code",
        "colab": {}
      },
      "source": [
        "neck = backbone.output\n",
        "neck = Flatten(name=\"flatten\")(neck)\n",
        "neck = Dense(512, activation=\"relu\")(neck)"
      ],
      "execution_count": 0,
      "outputs": []
    },
    {
      "cell_type": "code",
      "metadata": {
        "id": "VwxSCzxXrxlW",
        "colab_type": "code",
        "outputId": "9df5cbd0-75eb-428b-cb97-1ccff56014dc",
        "colab": {
          "base_uri": "https://localhost:8080/",
          "height": 122
        }
      },
      "source": [
        "\n",
        "\n",
        "def build_tower(in_layer):\n",
        "    neck = Dropout(0.2)(in_layer)\n",
        "    neck = Dense(128, activation=\"relu\")(neck)\n",
        "    neck = Dropout(0.3)(in_layer)\n",
        "    neck = Dense(128, activation=\"relu\")(neck)\n",
        "    return neck\n",
        "\n",
        "\n",
        "def build_head(name, in_layer):\n",
        "    return Dense(\n",
        "        num_units[name], activation=\"softmax\", name=f\"{name}_output\"\n",
        "    )(in_layer)\n",
        "\n",
        "# heads\n",
        "gender = build_head(\"gender\", build_tower(neck))\n",
        "image_quality = build_head(\"image_quality\", build_tower(neck))\n",
        "age = build_head(\"age\", build_tower(neck))\n",
        "weight = build_head(\"weight\", build_tower(neck))\n",
        "bag = build_head(\"bag\", build_tower(neck))\n",
        "footwear = build_head(\"footwear\", build_tower(neck))\n",
        "emotion = build_head(\"emotion\", build_tower(neck))\n",
        "pose = build_head(\"pose\", build_tower(neck))\n",
        "\n",
        "\n",
        "model = Model(\n",
        "    inputs=backbone.input, \n",
        "    outputs=[gender, image_quality, age, weight, bag, footwear, pose, emotion]\n",
        ")"
      ],
      "execution_count": 0,
      "outputs": [
        {
          "output_type": "stream",
          "text": [
            "WARNING:tensorflow:From /usr/local/lib/python3.6/dist-packages/keras/backend/tensorflow_backend.py:148: The name tf.placeholder_with_default is deprecated. Please use tf.compat.v1.placeholder_with_default instead.\n",
            "\n",
            "WARNING:tensorflow:From /usr/local/lib/python3.6/dist-packages/keras/backend/tensorflow_backend.py:3733: calling dropout (from tensorflow.python.ops.nn_ops) with keep_prob is deprecated and will be removed in a future version.\n",
            "Instructions for updating:\n",
            "Please use `rate` instead of `keep_prob`. Rate should be set to `rate = 1 - keep_prob`.\n"
          ],
          "name": "stdout"
        }
      ]
    },
    {
      "cell_type": "code",
      "metadata": {
        "id": "LhHJF9ENr2tA",
        "colab_type": "code",
        "colab": {}
      },
      "source": [
        "# freeze backbone\n",
        "for layer in backbone.layers:\n",
        "\tlayer.trainable = False"
      ],
      "execution_count": 0,
      "outputs": []
    },
    {
      "cell_type": "code",
      "metadata": {
        "id": "95pR7MfCr8QA",
        "colab_type": "code",
        "colab": {}
      },
      "source": [
        "\n",
        "clr1 = clr.CyclicLR(base_lr=0.001, max_lr=0.006,\n",
        "                        step_size=2000., mode='triangular')\n",
        "\n",
        "\n",
        "\n",
        "callbacks = [clr1]"
      ],
      "execution_count": 0,
      "outputs": []
    },
    {
      "cell_type": "code",
      "metadata": {
        "id": "WcpAKsfxsaXM",
        "colab_type": "code",
        "outputId": "caf2132a-abd6-45c2-81e2-5b7671ed4caa",
        "colab": {
          "base_uri": "https://localhost:8080/",
          "height": 105
        }
      },
      "source": [
        "opt = SGD(lr=0.1, momentum=0.9)\n",
        "model.compile(\n",
        "    optimizer=opt,\n",
        "    loss=\"categorical_crossentropy\", \n",
        "    # loss_weights=loss_weights, \n",
        "    metrics=[\"accuracy\"]\n",
        ")"
      ],
      "execution_count": 0,
      "outputs": [
        {
          "output_type": "stream",
          "text": [
            "WARNING:tensorflow:From /usr/local/lib/python3.6/dist-packages/keras/optimizers.py:793: The name tf.train.Optimizer is deprecated. Please use tf.compat.v1.train.Optimizer instead.\n",
            "\n",
            "WARNING:tensorflow:From /usr/local/lib/python3.6/dist-packages/keras/backend/tensorflow_backend.py:3576: The name tf.log is deprecated. Please use tf.math.log instead.\n",
            "\n"
          ],
          "name": "stdout"
        }
      ]
    },
    {
      "cell_type": "code",
      "metadata": {
        "id": "ONu2YOhusfMb",
        "colab_type": "code",
        "outputId": "5685b8f2-9190-464f-f136-16cfeef0940c",
        "colab": {
          "base_uri": "https://localhost:8080/",
          "height": 1000
        }
      },
      "source": [
        "\n",
        "model.fit_generator(\n",
        "    generator=train_gen,\n",
        "    validation_data=valid_gen,\n",
        "    use_multiprocessing=True,\n",
        "    workers=6, \n",
        "    epochs=24,\n",
        "    verbose=1,\n",
        "    callbacks=callbacks\n",
        ")"
      ],
      "execution_count": 0,
      "outputs": [
        {
          "output_type": "stream",
          "text": [
            "WARNING:tensorflow:From /usr/local/lib/python3.6/dist-packages/tensorflow_core/python/ops/math_grad.py:1424: where (from tensorflow.python.ops.array_ops) is deprecated and will be removed in a future version.\n",
            "Instructions for updating:\n",
            "Use tf.where in 2.0, which has the same broadcast rule as np.where\n",
            "WARNING:tensorflow:From /usr/local/lib/python3.6/dist-packages/keras/backend/tensorflow_backend.py:1033: The name tf.assign_add is deprecated. Please use tf.compat.v1.assign_add instead.\n",
            "\n",
            "WARNING:tensorflow:From /usr/local/lib/python3.6/dist-packages/keras/backend/tensorflow_backend.py:1020: The name tf.assign is deprecated. Please use tf.compat.v1.assign instead.\n",
            "\n",
            "Epoch 1/24\n",
            "359/360 [============================>.] - ETA: 0s - loss: 8.6319 - gender_output_loss: 0.7437 - image_quality_output_loss: 1.0682 - age_output_loss: 1.5685 - weight_output_loss: 1.1021 - bag_output_loss: 1.0121 - footwear_output_loss: 1.1022 - pose_output_loss: 1.0067 - emotion_output_loss: 1.0284 - gender_output_acc: 0.5472 - image_quality_output_acc: 0.5308 - age_output_acc: 0.3734 - weight_output_acc: 0.6209 - bag_output_acc: 0.5413 - footwear_output_acc: 0.4615 - pose_output_acc: 0.6029 - emotion_output_acc: 0.7036\n",
            "\n",
            "360/360 [==============================] - 53s 147ms/step - loss: 8.6293 - gender_output_loss: 0.7436 - image_quality_output_loss: 1.0678 - age_output_loss: 1.5679 - weight_output_loss: 1.1016 - bag_output_loss: 1.0120 - footwear_output_loss: 1.1016 - pose_output_loss: 1.0066 - emotion_output_loss: 1.0282 - gender_output_acc: 0.5470 - image_quality_output_acc: 0.5311 - age_output_acc: 0.3737 - weight_output_acc: 0.6213 - bag_output_acc: 0.5409 - footwear_output_acc: 0.4618 - pose_output_acc: 0.6028 - emotion_output_acc: 0.7037 - val_loss: 7.7398 - val_gender_output_loss: 0.6751 - val_image_quality_output_loss: 0.9539 - val_age_output_loss: 1.4253 - val_weight_output_loss: 0.9829 - val_bag_output_loss: 0.9375 - val_footwear_output_loss: 0.9075 - val_pose_output_loss: 0.9169 - val_emotion_output_loss: 0.9407 - val_gender_output_acc: 0.5383 - val_image_quality_output_acc: 0.5736 - val_age_output_acc: 0.4052 - val_weight_output_acc: 0.6356 - val_bag_output_acc: 0.5565 - val_footwear_output_acc: 0.6159 - val_pose_output_acc: 0.6174 - val_emotion_output_acc: 0.7087\n",
            "Epoch 2/24\n",
            "360/360 [==============================] - 43s 121ms/step - loss: 7.9045 - gender_output_loss: 0.6823 - image_quality_output_loss: 0.9899 - age_output_loss: 1.4508 - weight_output_loss: 1.0101 - bag_output_loss: 0.9288 - footwear_output_loss: 0.9873 - pose_output_loss: 0.9292 - emotion_output_loss: 0.9262 - gender_output_acc: 0.5646 - image_quality_output_acc: 0.5485 - age_output_acc: 0.3960 - weight_output_acc: 0.6352 - bag_output_acc: 0.5619 - footwear_output_acc: 0.5185 - pose_output_acc: 0.6174 - emotion_output_acc: 0.7127 - val_loss: 7.7241 - val_gender_output_loss: 0.6903 - val_image_quality_output_loss: 0.9752 - val_age_output_loss: 1.4282 - val_weight_output_loss: 0.9800 - val_bag_output_loss: 0.9258 - val_footwear_output_loss: 0.8909 - val_pose_output_loss: 0.9208 - val_emotion_output_loss: 0.9130 - val_gender_output_acc: 0.5383 - val_image_quality_output_acc: 0.5519 - val_age_output_acc: 0.3896 - val_weight_output_acc: 0.6356 - val_bag_output_acc: 0.5575 - val_footwear_output_acc: 0.6295 - val_pose_output_acc: 0.6174 - val_emotion_output_acc: 0.7087\n",
            "Epoch 3/24\n",
            "360/360 [==============================] - 44s 121ms/step - loss: 7.8417 - gender_output_loss: 0.6828 - image_quality_output_loss: 0.9846 - age_output_loss: 1.4313 - weight_output_loss: 0.9843 - bag_output_loss: 0.9162 - footwear_output_loss: 1.0127 - pose_output_loss: 0.9256 - emotion_output_loss: 0.9043 - gender_output_acc: 0.5670 - image_quality_output_acc: 0.5497 - age_output_acc: 0.3958 - weight_output_acc: 0.6353 - bag_output_acc: 0.5640 - footwear_output_acc: 0.4824 - pose_output_acc: 0.6176 - emotion_output_acc: 0.7123 - val_loss: 7.8712 - val_gender_output_loss: 0.6906 - val_image_quality_output_loss: 0.9653 - val_age_output_loss: 1.4233 - val_weight_output_loss: 0.9785 - val_bag_output_loss: 0.9223 - val_footwear_output_loss: 1.0496 - val_pose_output_loss: 0.9279 - val_emotion_output_loss: 0.9137 - val_gender_output_acc: 0.5383 - val_image_quality_output_acc: 0.5736 - val_age_output_acc: 0.4052 - val_weight_output_acc: 0.6356 - val_bag_output_acc: 0.5575 - val_footwear_output_acc: 0.4425 - val_pose_output_acc: 0.6174 - val_emotion_output_acc: 0.7087\n",
            "Epoch 4/24\n",
            "359/360 [============================>.] - ETA: 0s - loss: 7.8677 - gender_output_loss: 0.6844 - image_quality_output_loss: 0.9855 - age_output_loss: 1.4297 - weight_output_loss: 0.9837 - bag_output_loss: 0.9170 - footwear_output_loss: 1.0371 - pose_output_loss: 0.9261 - emotion_output_loss: 0.9041 - gender_output_acc: 0.5665 - image_quality_output_acc: 0.5495 - age_output_acc: 0.3972 - weight_output_acc: 0.6353 - bag_output_acc: 0.5642 - footwear_output_acc: 0.4481 - pose_output_acc: 0.6178 - emotion_output_acc: 0.7127\n",
            "360/360 [==============================] - 43s 121ms/step - loss: 7.8667 - gender_output_loss: 0.6843 - image_quality_output_loss: 0.9852 - age_output_loss: 1.4294 - weight_output_loss: 0.9833 - bag_output_loss: 0.9165 - footwear_output_loss: 1.0371 - pose_output_loss: 0.9263 - emotion_output_loss: 0.9046 - gender_output_acc: 0.5668 - image_quality_output_acc: 0.5498 - age_output_acc: 0.3970 - weight_output_acc: 0.6355 - bag_output_acc: 0.5646 - footwear_output_acc: 0.4482 - pose_output_acc: 0.6176 - emotion_output_acc: 0.7124 - val_loss: 7.8725 - val_gender_output_loss: 0.6924 - val_image_quality_output_loss: 0.9632 - val_age_output_loss: 1.4227 - val_weight_output_loss: 0.9781 - val_bag_output_loss: 0.9239 - val_footwear_output_loss: 1.0503 - val_pose_output_loss: 0.9277 - val_emotion_output_loss: 0.9142 - val_gender_output_acc: 0.5383 - val_image_quality_output_acc: 0.5736 - val_age_output_acc: 0.4052 - val_weight_output_acc: 0.6356 - val_bag_output_acc: 0.5575 - val_footwear_output_acc: 0.4425 - val_pose_output_acc: 0.6174 - val_emotion_output_acc: 0.7087\n",
            "Epoch 5/24\n",
            "360/360 [==============================] - 44s 122ms/step - loss: 7.8715 - gender_output_loss: 0.6845 - image_quality_output_loss: 0.9856 - age_output_loss: 1.4294 - weight_output_loss: 0.9843 - bag_output_loss: 0.9169 - footwear_output_loss: 1.0397 - pose_output_loss: 0.9262 - emotion_output_loss: 0.9049 - gender_output_acc: 0.5661 - image_quality_output_acc: 0.5494 - age_output_acc: 0.3969 - weight_output_acc: 0.6352 - bag_output_acc: 0.5642 - footwear_output_acc: 0.4448 - pose_output_acc: 0.6177 - emotion_output_acc: 0.7122 - val_loss: 7.8695 - val_gender_output_loss: 0.6903 - val_image_quality_output_loss: 0.9625 - val_age_output_loss: 1.4223 - val_weight_output_loss: 0.9795 - val_bag_output_loss: 0.9226 - val_footwear_output_loss: 1.0496 - val_pose_output_loss: 0.9284 - val_emotion_output_loss: 0.9142 - val_gender_output_acc: 0.5383 - val_image_quality_output_acc: 0.5736 - val_age_output_acc: 0.4052 - val_weight_output_acc: 0.6356 - val_bag_output_acc: 0.5575 - val_footwear_output_acc: 0.4425 - val_pose_output_acc: 0.6174 - val_emotion_output_acc: 0.7087\n",
            "Epoch 6/24\n",
            "360/360 [==============================] - 44s 122ms/step - loss: 7.8724 - gender_output_loss: 0.6847 - image_quality_output_loss: 0.9854 - age_output_loss: 1.4302 - weight_output_loss: 0.9840 - bag_output_loss: 0.9170 - footwear_output_loss: 1.0399 - pose_output_loss: 0.9269 - emotion_output_loss: 0.9044 - gender_output_acc: 0.5665 - image_quality_output_acc: 0.5500 - age_output_acc: 0.3970 - weight_output_acc: 0.6354 - bag_output_acc: 0.5641 - footwear_output_acc: 0.4451 - pose_output_acc: 0.6174 - emotion_output_acc: 0.7124 - val_loss: 7.8774 - val_gender_output_loss: 0.6940 - val_image_quality_output_loss: 0.9643 - val_age_output_loss: 1.4222 - val_weight_output_loss: 0.9820 - val_bag_output_loss: 0.9221 - val_footwear_output_loss: 1.0505 - val_pose_output_loss: 0.9282 - val_emotion_output_loss: 0.9141 - val_gender_output_acc: 0.5383 - val_image_quality_output_acc: 0.5736 - val_age_output_acc: 0.4052 - val_weight_output_acc: 0.6356 - val_bag_output_acc: 0.5575 - val_footwear_output_acc: 0.4425 - val_pose_output_acc: 0.6174 - val_emotion_output_acc: 0.7087\n",
            "Epoch 7/24\n",
            "359/360 [============================>.] - ETA: 0s - loss: 7.8690 - gender_output_loss: 0.6846 - image_quality_output_loss: 0.9849 - age_output_loss: 1.4297 - weight_output_loss: 0.9831 - bag_output_loss: 0.9168 - footwear_output_loss: 1.0393 - pose_output_loss: 0.9264 - emotion_output_loss: 0.9042 - gender_output_acc: 0.5663 - image_quality_output_acc: 0.5501 - age_output_acc: 0.3972 - weight_output_acc: 0.6357 - bag_output_acc: 0.5642 - footwear_output_acc: 0.4450 - pose_output_acc: 0.6176 - emotion_output_acc: 0.7126Epoch 7/24\n",
            "360/360 [==============================] - 44s 122ms/step - loss: 7.8701 - gender_output_loss: 0.6846 - image_quality_output_loss: 0.9853 - age_output_loss: 1.4298 - weight_output_loss: 0.9834 - bag_output_loss: 0.9168 - footwear_output_loss: 1.0392 - pose_output_loss: 0.9264 - emotion_output_loss: 0.9045 - gender_output_acc: 0.5661 - image_quality_output_acc: 0.5498 - age_output_acc: 0.3970 - weight_output_acc: 0.6355 - bag_output_acc: 0.5641 - footwear_output_acc: 0.4451 - pose_output_acc: 0.6176 - emotion_output_acc: 0.7124 - val_loss: 7.8730 - val_gender_output_loss: 0.6945 - val_image_quality_output_loss: 0.9623 - val_age_output_loss: 1.4232 - val_weight_output_loss: 0.9797 - val_bag_output_loss: 0.9227 - val_footwear_output_loss: 1.0494 - val_pose_output_loss: 0.9274 - val_emotion_output_loss: 0.9140 - val_gender_output_acc: 0.5383 - val_image_quality_output_acc: 0.5736 - val_age_output_acc: 0.4052 - val_weight_output_acc: 0.6356 - val_bag_output_acc: 0.5575 - val_footwear_output_acc: 0.4425 - val_pose_output_acc: 0.6174 - val_emotion_output_acc: 0.7087\n",
            "Epoch 8/24\n",
            "360/360 [==============================] - 43s 121ms/step - loss: 7.8705 - gender_output_loss: 0.6845 - image_quality_output_loss: 0.9858 - age_output_loss: 1.4299 - weight_output_loss: 0.9835 - bag_output_loss: 0.9168 - footwear_output_loss: 1.0392 - pose_output_loss: 0.9264 - emotion_output_loss: 0.9044 - gender_output_acc: 0.5662 - image_quality_output_acc: 0.5494 - age_output_acc: 0.3969 - weight_output_acc: 0.6354 - bag_output_acc: 0.5641 - footwear_output_acc: 0.4450 - pose_output_acc: 0.6175 - emotion_output_acc: 0.7125 - val_loss: 7.8750 - val_gender_output_loss: 0.6944 - val_image_quality_output_loss: 0.9651 - val_age_output_loss: 1.4223 - val_weight_output_loss: 0.9786 - val_bag_output_loss: 0.9223 - val_footwear_output_loss: 1.0506 - val_pose_output_loss: 0.9275 - val_emotion_output_loss: 0.9142 - val_gender_output_acc: 0.5383 - val_image_quality_output_acc: 0.5736 - val_age_output_acc: 0.4052 - val_weight_output_acc: 0.6356 - val_bag_output_acc: 0.5575 - val_footwear_output_acc: 0.4425 - val_pose_output_acc: 0.6174 - val_emotion_output_acc: 0.7087\n",
            "Epoch 9/24\n",
            "360/360 [==============================] - 43s 121ms/step - loss: 7.8708 - gender_output_loss: 0.6846 - image_quality_output_loss: 0.9855 - age_output_loss: 1.4303 - weight_output_loss: 0.9838 - bag_output_loss: 0.9165 - footwear_output_loss: 1.0398 - pose_output_loss: 0.9264 - emotion_output_loss: 0.9039 - gender_output_acc: 0.5664 - image_quality_output_acc: 0.5497 - age_output_acc: 0.3966 - weight_output_acc: 0.6353 - bag_output_acc: 0.5643 - footwear_output_acc: 0.4448 - pose_output_acc: 0.6176 - emotion_output_acc: 0.7127 - val_loss: 7.8696 - val_gender_output_loss: 0.6914 - val_image_quality_output_loss: 0.9630 - val_age_output_loss: 1.4222 - val_weight_output_loss: 0.9786 - val_bag_output_loss: 0.9222 - val_footwear_output_loss: 1.0506 - val_pose_output_loss: 0.9274 - val_emotion_output_loss: 0.9142 - val_gender_output_acc: 0.5383 - val_image_quality_output_acc: 0.5736 - val_age_output_acc: 0.4052 - val_weight_output_acc: 0.6356 - val_bag_output_acc: 0.5575 - val_footwear_output_acc: 0.4425 - val_pose_output_acc: 0.6174 - val_emotion_output_acc: 0.7087\n",
            "Epoch 10/24\n",
            "360/360 [==============================] - 43s 121ms/step - loss: 7.8682 - gender_output_loss: 0.6846 - image_quality_output_loss: 0.9851 - age_output_loss: 1.4298 - weight_output_loss: 0.9830 - bag_output_loss: 0.9161 - footwear_output_loss: 1.0391 - pose_output_loss: 0.9260 - emotion_output_loss: 0.9046 - gender_output_acc: 0.5664 - image_quality_output_acc: 0.5498 - age_output_acc: 0.3967 - weight_output_acc: 0.6358 - bag_output_acc: 0.5646 - footwear_output_acc: 0.4450 - pose_output_acc: 0.6175 - emotion_output_acc: 0.7122 - val_loss: 7.8690 - val_gender_output_loss: 0.6913 - val_image_quality_output_loss: 0.9628 - val_age_output_loss: 1.4222 - val_weight_output_loss: 0.9783 - val_bag_output_loss: 0.9221 - val_footwear_output_loss: 1.0503 - val_pose_output_loss: 0.9276 - val_emotion_output_loss: 0.9142 - val_gender_output_acc: 0.5383 - val_image_quality_output_acc: 0.5736 - val_age_output_acc: 0.4052 - val_weight_output_acc: 0.6356 - val_bag_output_acc: 0.5575 - val_footwear_output_acc: 0.4425 - val_pose_output_acc: 0.6174 - val_emotion_output_acc: 0.7087\n",
            "Epoch 11/24\n",
            "360/360 [==============================] - 44s 122ms/step - loss: 7.8689 - gender_output_loss: 0.6845 - image_quality_output_loss: 0.9851 - age_output_loss: 1.4296 - weight_output_loss: 0.9830 - bag_output_loss: 0.9167 - footwear_output_loss: 1.0392 - pose_output_loss: 0.9264 - emotion_output_loss: 0.9044 - gender_output_acc: 0.5666 - image_quality_output_acc: 0.5498 - age_output_acc: 0.3962 - weight_output_acc: 0.6358 - bag_output_acc: 0.5645 - footwear_output_acc: 0.4453 - pose_output_acc: 0.6173 - emotion_output_acc: 0.7122 - val_loss: 7.8689 - val_gender_output_loss: 0.6915 - val_image_quality_output_loss: 0.9632 - val_age_output_loss: 1.4221 - val_weight_output_loss: 0.9784 - val_bag_output_loss: 0.9222 - val_footwear_output_loss: 1.0500 - val_pose_output_loss: 0.9275 - val_emotion_output_loss: 0.9139 - val_gender_output_acc: 0.5383 - val_image_quality_output_acc: 0.5736 - val_age_output_acc: 0.4052 - val_weight_output_acc: 0.6356 - val_bag_output_acc: 0.5575 - val_footwear_output_acc: 0.4425 - val_pose_output_acc: 0.6174 - val_emotion_output_acc: 0.7087\n",
            "Epoch 12/24\n",
            "360/360 [==============================] - 44s 122ms/step - loss: 7.8670 - gender_output_loss: 0.6843 - image_quality_output_loss: 0.9852 - age_output_loss: 1.4287 - weight_output_loss: 0.9828 - bag_output_loss: 0.9163 - footwear_output_loss: 1.0392 - pose_output_loss: 0.9263 - emotion_output_loss: 0.9042 - gender_output_acc: 0.5668 - image_quality_output_acc: 0.5497 - age_output_acc: 0.3971 - weight_output_acc: 0.6359 - bag_output_acc: 0.5648 - footwear_output_acc: 0.4453 - pose_output_acc: 0.6174 - emotion_output_acc: 0.7124 - val_loss: 7.8703 - val_gender_output_loss: 0.6921 - val_image_quality_output_loss: 0.9633 - val_age_output_loss: 1.4225 - val_weight_output_loss: 0.9787 - val_bag_output_loss: 0.9221 - val_footwear_output_loss: 1.0500 - val_pose_output_loss: 0.9275 - val_emotion_output_loss: 0.9141 - val_gender_output_acc: 0.5383 - val_image_quality_output_acc: 0.5736 - val_age_output_acc: 0.4052 - val_weight_output_acc: 0.6356 - val_bag_output_acc: 0.5575 - val_footwear_output_acc: 0.4425 - val_pose_output_acc: 0.6174 - val_emotion_output_acc: 0.7087\n",
            "Epoch 13/24\n",
            "360/360 [==============================] - 43s 121ms/step - loss: 7.8662 - gender_output_loss: 0.6845 - image_quality_output_loss: 0.9850 - age_output_loss: 1.4287 - weight_output_loss: 0.9827 - bag_output_loss: 0.9162 - footwear_output_loss: 1.0392 - pose_output_loss: 0.9257 - emotion_output_loss: 0.9041 - gender_output_acc: 0.5665 - image_quality_output_acc: 0.5499 - age_output_acc: 0.3971 - weight_output_acc: 0.6358 - bag_output_acc: 0.5641 - footwear_output_acc: 0.4451 - pose_output_acc: 0.6179 - emotion_output_acc: 0.7124 - val_loss: 7.8694 - val_gender_output_loss: 0.6911 - val_image_quality_output_loss: 0.9636 - val_age_output_loss: 1.4221 - val_weight_output_loss: 0.9786 - val_bag_output_loss: 0.9224 - val_footwear_output_loss: 1.0500 - val_pose_output_loss: 0.9278 - val_emotion_output_loss: 0.9139 - val_gender_output_acc: 0.5383 - val_image_quality_output_acc: 0.5736 - val_age_output_acc: 0.4052 - val_weight_output_acc: 0.6356 - val_bag_output_acc: 0.5575 - val_footwear_output_acc: 0.4425 - val_pose_output_acc: 0.6174 - val_emotion_output_acc: 0.7087\n",
            "Epoch 14/24\n",
            "360/360 [==============================] - 44s 122ms/step - loss: 7.8685 - gender_output_loss: 0.6844 - image_quality_output_loss: 0.9853 - age_output_loss: 1.4295 - weight_output_loss: 0.9836 - bag_output_loss: 0.9166 - footwear_output_loss: 1.0392 - pose_output_loss: 0.9262 - emotion_output_loss: 0.9038 - gender_output_acc: 0.5668 - image_quality_output_acc: 0.5496 - age_output_acc: 0.3965 - weight_output_acc: 0.6353 - bag_output_acc: 0.5647 - footwear_output_acc: 0.4453 - pose_output_acc: 0.6176 - emotion_output_acc: 0.7126 - val_loss: 7.8718 - val_gender_output_loss: 0.6907 - val_image_quality_output_loss: 0.9651 - val_age_output_loss: 1.4233 - val_weight_output_loss: 0.9785 - val_bag_output_loss: 0.9222 - val_footwear_output_loss: 1.0500 - val_pose_output_loss: 0.9278 - val_emotion_output_loss: 0.9141 - val_gender_output_acc: 0.5383 - val_image_quality_output_acc: 0.5736 - val_age_output_acc: 0.4052 - val_weight_output_acc: 0.6356 - val_bag_output_acc: 0.5575 - val_footwear_output_acc: 0.4425 - val_pose_output_acc: 0.6174 - val_emotion_output_acc: 0.7087\n",
            "Epoch 15/24\n",
            "360/360 [==============================] - 44s 121ms/step - loss: 7.8695 - gender_output_loss: 0.6844 - image_quality_output_loss: 0.9852 - age_output_loss: 1.4297 - weight_output_loss: 0.9837 - bag_output_loss: 0.9168 - footwear_output_loss: 1.0392 - pose_output_loss: 0.9259 - emotion_output_loss: 0.9046 - gender_output_acc: 0.5667 - image_quality_output_acc: 0.5497 - age_output_acc: 0.3970 - weight_output_acc: 0.6356 - bag_output_acc: 0.5643 - footwear_output_acc: 0.4451 - pose_output_acc: 0.6177 - emotion_output_acc: 0.7122 - val_loss: 7.8724 - val_gender_output_loss: 0.6928 - val_image_quality_output_loss: 0.9633 - val_age_output_loss: 1.4221 - val_weight_output_loss: 0.9788 - val_bag_output_loss: 0.9223 - val_footwear_output_loss: 1.0508 - val_pose_output_loss: 0.9277 - val_emotion_output_loss: 0.9144 - val_gender_output_acc: 0.5383 - val_image_quality_output_acc: 0.5736 - val_age_output_acc: 0.4052 - val_weight_output_acc: 0.6356 - val_bag_output_acc: 0.5575 - val_footwear_output_acc: 0.4425 - val_pose_output_acc: 0.6174 - val_emotion_output_acc: 0.7087\n",
            "Epoch 16/24\n",
            "360/360 [==============================] - 44s 122ms/step - loss: 7.8703 - gender_output_loss: 0.6846 - image_quality_output_loss: 0.9855 - age_output_loss: 1.4297 - weight_output_loss: 0.9833 - bag_output_loss: 0.9169 - footwear_output_loss: 1.0390 - pose_output_loss: 0.9263 - emotion_output_loss: 0.9050 - gender_output_acc: 0.5665 - image_quality_output_acc: 0.5497 - age_output_acc: 0.3970 - weight_output_acc: 0.6354 - bag_output_acc: 0.5642 - footwear_output_acc: 0.4452 - pose_output_acc: 0.6175 - emotion_output_acc: 0.7122 - val_loss: 7.8738 - val_gender_output_loss: 0.6916 - val_image_quality_output_loss: 0.9660 - val_age_output_loss: 1.4228 - val_weight_output_loss: 0.9788 - val_bag_output_loss: 0.9222 - val_footwear_output_loss: 1.0501 - val_pose_output_loss: 0.9276 - val_emotion_output_loss: 0.9146 - val_gender_output_acc: 0.5383 - val_image_quality_output_acc: 0.5736 - val_age_output_acc: 0.4052 - val_weight_output_acc: 0.6356 - val_bag_output_acc: 0.5575 - val_footwear_output_acc: 0.4425 - val_pose_output_acc: 0.6174 - val_emotion_output_acc: 0.7087\n",
            "Epoch 17/24\n",
            "360/360 [==============================] - 43s 120ms/step - loss: 7.8703 - gender_output_loss: 0.6845 - image_quality_output_loss: 0.9854 - age_output_loss: 1.4298 - weight_output_loss: 0.9841 - bag_output_loss: 0.9170 - footwear_output_loss: 1.0393 - pose_output_loss: 0.9260 - emotion_output_loss: 0.9042 - gender_output_acc: 0.5664 - image_quality_output_acc: 0.5497 - age_output_acc: 0.3972 - weight_output_acc: 0.6354 - bag_output_acc: 0.5640 - footwear_output_acc: 0.4447 - pose_output_acc: 0.6178 - emotion_output_acc: 0.7126 - val_loss: 7.8732 - val_gender_output_loss: 0.6911 - val_image_quality_output_loss: 0.9649 - val_age_output_loss: 1.4227 - val_weight_output_loss: 0.9785 - val_bag_output_loss: 0.9222 - val_footwear_output_loss: 1.0495 - val_pose_output_loss: 0.9303 - val_emotion_output_loss: 0.9140 - val_gender_output_acc: 0.5383 - val_image_quality_output_acc: 0.5736 - val_age_output_acc: 0.4052 - val_weight_output_acc: 0.6356 - val_bag_output_acc: 0.5575 - val_footwear_output_acc: 0.4425 - val_pose_output_acc: 0.6174 - val_emotion_output_acc: 0.7087\n",
            "Epoch 18/24\n",
            "359/360 [============================>.] - ETA: 0s - loss: 7.8695 - gender_output_loss: 0.6846 - image_quality_output_loss: 0.9854 - age_output_loss: 1.4296 - weight_output_loss: 0.9830 - bag_output_loss: 0.9163 - footwear_output_loss: 1.0392 - pose_output_loss: 0.9266 - emotion_output_loss: 0.9049 - gender_output_acc: 0.5663 - image_quality_output_acc: 0.5499 - age_output_acc: 0.3968 - weight_output_acc: 0.6361 - bag_output_acc: 0.5642 - footwear_output_acc: 0.4449 - pose_output_acc: 0.6175 - emotion_output_acc: 0.7123Epoch 18/24\n",
            "360/360 [==============================] - 44s 122ms/step - loss: 7.8706 - gender_output_loss: 0.6846 - image_quality_output_loss: 0.9855 - age_output_loss: 1.4296 - weight_output_loss: 0.9835 - bag_output_loss: 0.9164 - footwear_output_loss: 1.0394 - pose_output_loss: 0.9264 - emotion_output_loss: 0.9053 - gender_output_acc: 0.5667 - image_quality_output_acc: 0.5498 - age_output_acc: 0.3970 - weight_output_acc: 0.6358 - bag_output_acc: 0.5643 - footwear_output_acc: 0.4451 - pose_output_acc: 0.6176 - emotion_output_acc: 0.7122 - val_loss: 7.8752 - val_gender_output_loss: 0.6903 - val_image_quality_output_loss: 0.9658 - val_age_output_loss: 1.4224 - val_weight_output_loss: 0.9777 - val_bag_output_loss: 0.9264 - val_footwear_output_loss: 1.0506 - val_pose_output_loss: 0.9284 - val_emotion_output_loss: 0.9137 - val_gender_output_acc: 0.5383 - val_image_quality_output_acc: 0.5736 - val_age_output_acc: 0.4052 - val_weight_output_acc: 0.6356 - val_bag_output_acc: 0.5575 - val_footwear_output_acc: 0.4425 - val_pose_output_acc: 0.6174 - val_emotion_output_acc: 0.7087\n",
            "Epoch 19/24\n",
            "360/360 [==============================] - 44s 123ms/step - loss: 7.8705 - gender_output_loss: 0.6846 - image_quality_output_loss: 0.9852 - age_output_loss: 1.4302 - weight_output_loss: 0.9833 - bag_output_loss: 0.9170 - footwear_output_loss: 1.0394 - pose_output_loss: 0.9260 - emotion_output_loss: 0.9047 - gender_output_acc: 0.5662 - image_quality_output_acc: 0.5498 - age_output_acc: 0.3968 - weight_output_acc: 0.6356 - bag_output_acc: 0.5640 - footwear_output_acc: 0.4447 - pose_output_acc: 0.6176 - emotion_output_acc: 0.7124 - val_loss: 7.8721 - val_gender_output_loss: 0.6918 - val_image_quality_output_loss: 0.9645 - val_age_output_loss: 1.4221 - val_weight_output_loss: 0.9786 - val_bag_output_loss: 0.9222 - val_footwear_output_loss: 1.0508 - val_pose_output_loss: 0.9281 - val_emotion_output_loss: 0.9141 - val_gender_output_acc: 0.5383 - val_image_quality_output_acc: 0.5736 - val_age_output_acc: 0.4052 - val_weight_output_acc: 0.6356 - val_bag_output_acc: 0.5575 - val_footwear_output_acc: 0.4425 - val_pose_output_acc: 0.6174 - val_emotion_output_acc: 0.7087\n",
            "Epoch 20/24\n",
            "360/360 [==============================] - 44s 121ms/step - loss: 7.8693 - gender_output_loss: 0.6845 - image_quality_output_loss: 0.9852 - age_output_loss: 1.4297 - weight_output_loss: 0.9837 - bag_output_loss: 0.9167 - footwear_output_loss: 1.0389 - pose_output_loss: 0.9264 - emotion_output_loss: 0.9042 - gender_output_acc: 0.5666 - image_quality_output_acc: 0.5497 - age_output_acc: 0.3967 - weight_output_acc: 0.6354 - bag_output_acc: 0.5644 - footwear_output_acc: 0.4454 - pose_output_acc: 0.6175 - emotion_output_acc: 0.7124 - val_loss: 7.8725 - val_gender_output_loss: 0.6918 - val_image_quality_output_loss: 0.9647 - val_age_output_loss: 1.4229 - val_weight_output_loss: 0.9784 - val_bag_output_loss: 0.9225 - val_footwear_output_loss: 1.0502 - val_pose_output_loss: 0.9277 - val_emotion_output_loss: 0.9141 - val_gender_output_acc: 0.5383 - val_image_quality_output_acc: 0.5736 - val_age_output_acc: 0.4052 - val_weight_output_acc: 0.6356 - val_bag_output_acc: 0.5575 - val_footwear_output_acc: 0.4425 - val_pose_output_acc: 0.6174 - val_emotion_output_acc: 0.7087\n",
            "Epoch 21/24\n",
            "359/360 [============================>.] - ETA: 0s - loss: 7.8688 - gender_output_loss: 0.6845 - image_quality_output_loss: 0.9851 - age_output_loss: 1.4298 - weight_output_loss: 0.9833 - bag_output_loss: 0.9168 - footwear_output_loss: 1.0392 - pose_output_loss: 0.9263 - emotion_output_loss: 0.9040 - gender_output_acc: 0.5667 - image_quality_output_acc: 0.5497 - age_output_acc: 0.3968 - weight_output_acc: 0.6355 - bag_output_acc: 0.5639 - footwear_output_acc: 0.4452 - pose_output_acc: 0.6175 - emotion_output_acc: 0.7126Epoch 21/24\n",
            "360/360 [==============================] - 44s 122ms/step - loss: 7.8690 - gender_output_loss: 0.6845 - image_quality_output_loss: 0.9850 - age_output_loss: 1.4297 - weight_output_loss: 0.9835 - bag_output_loss: 0.9167 - footwear_output_loss: 1.0393 - pose_output_loss: 0.9262 - emotion_output_loss: 0.9041 - gender_output_acc: 0.5665 - image_quality_output_acc: 0.5498 - age_output_acc: 0.3969 - weight_output_acc: 0.6355 - bag_output_acc: 0.5641 - footwear_output_acc: 0.4451 - pose_output_acc: 0.6176 - emotion_output_acc: 0.7125 - val_loss: 7.8713 - val_gender_output_loss: 0.6921 - val_image_quality_output_loss: 0.9638 - val_age_output_loss: 1.4228 - val_weight_output_loss: 0.9785 - val_bag_output_loss: 0.9222 - val_footwear_output_loss: 1.0503 - val_pose_output_loss: 0.9274 - val_emotion_output_loss: 0.9140 - val_gender_output_acc: 0.5383 - val_image_quality_output_acc: 0.5736 - val_age_output_acc: 0.4052 - val_weight_output_acc: 0.6356 - val_bag_output_acc: 0.5575 - val_footwear_output_acc: 0.4425 - val_pose_output_acc: 0.6174 - val_emotion_output_acc: 0.7087\n",
            "Epoch 22/24\n",
            "360/360 [==============================] - 44s 121ms/step - loss: 7.8667 - gender_output_loss: 0.6844 - image_quality_output_loss: 0.9849 - age_output_loss: 1.4293 - weight_output_loss: 0.9828 - bag_output_loss: 0.9166 - footwear_output_loss: 1.0389 - pose_output_loss: 0.9256 - emotion_output_loss: 0.9041 - gender_output_acc: 0.5666 - image_quality_output_acc: 0.5499 - age_output_acc: 0.3965 - weight_output_acc: 0.6359 - bag_output_acc: 0.5640 - footwear_output_acc: 0.4452 - pose_output_acc: 0.6180 - emotion_output_acc: 0.7124 - val_loss: 7.8700 - val_gender_output_loss: 0.6920 - val_image_quality_output_loss: 0.9632 - val_age_output_loss: 1.4220 - val_weight_output_loss: 0.9787 - val_bag_output_loss: 0.9224 - val_footwear_output_loss: 1.0503 - val_pose_output_loss: 0.9275 - val_emotion_output_loss: 0.9139 - val_gender_output_acc: 0.5383 - val_image_quality_output_acc: 0.5736 - val_age_output_acc: 0.4052 - val_weight_output_acc: 0.6356 - val_bag_output_acc: 0.5575 - val_footwear_output_acc: 0.4425 - val_pose_output_acc: 0.6174 - val_emotion_output_acc: 0.7087\n",
            "Epoch 23/24\n",
            "360/360 [==============================] - 44s 121ms/step - loss: 7.8667 - gender_output_loss: 0.6845 - image_quality_output_loss: 0.9848 - age_output_loss: 1.4292 - weight_output_loss: 0.9833 - bag_output_loss: 0.9164 - footwear_output_loss: 1.0390 - pose_output_loss: 0.9256 - emotion_output_loss: 0.9040 - gender_output_acc: 0.5663 - image_quality_output_acc: 0.5499 - age_output_acc: 0.3970 - weight_output_acc: 0.6356 - bag_output_acc: 0.5642 - footwear_output_acc: 0.4450 - pose_output_acc: 0.6179 - emotion_output_acc: 0.7124 - val_loss: 7.8703 - val_gender_output_loss: 0.6916 - val_image_quality_output_loss: 0.9646 - val_age_output_loss: 1.4221 - val_weight_output_loss: 0.9784 - val_bag_output_loss: 0.9224 - val_footwear_output_loss: 1.0499 - val_pose_output_loss: 0.9275 - val_emotion_output_loss: 0.9139 - val_gender_output_acc: 0.5383 - val_image_quality_output_acc: 0.5736 - val_age_output_acc: 0.4052 - val_weight_output_acc: 0.6356 - val_bag_output_acc: 0.5575 - val_footwear_output_acc: 0.4425 - val_pose_output_acc: 0.6174 - val_emotion_output_acc: 0.7087\n",
            "Epoch 24/24\n",
            "360/360 [==============================] - 43s 121ms/step - loss: 7.8672 - gender_output_loss: 0.6844 - image_quality_output_loss: 0.9852 - age_output_loss: 1.4294 - weight_output_loss: 0.9830 - bag_output_loss: 0.9163 - footwear_output_loss: 1.0389 - pose_output_loss: 0.9259 - emotion_output_loss: 0.9042 - gender_output_acc: 0.5667 - image_quality_output_acc: 0.5497 - age_output_acc: 0.3967 - weight_output_acc: 0.6357 - bag_output_acc: 0.5643 - footwear_output_acc: 0.4450 - pose_output_acc: 0.6176 - emotion_output_acc: 0.7123 - val_loss: 7.8718 - val_gender_output_loss: 0.6928 - val_image_quality_output_loss: 0.9632 - val_age_output_loss: 1.4227 - val_weight_output_loss: 0.9782 - val_bag_output_loss: 0.9224 - val_footwear_output_loss: 1.0506 - val_pose_output_loss: 0.9277 - val_emotion_output_loss: 0.9144 - val_gender_output_acc: 0.5383 - val_image_quality_output_acc: 0.5736 - val_age_output_acc: 0.4052 - val_weight_output_acc: 0.6356 - val_bag_output_acc: 0.5575 - val_footwear_output_acc: 0.4425 - val_pose_output_acc: 0.6174 - val_emotion_output_acc: 0.7087\n"
          ],
          "name": "stdout"
        },
        {
          "output_type": "execute_result",
          "data": {
            "text/plain": [
              "<keras.callbacks.History at 0x7f64861927b8>"
            ]
          },
          "metadata": {
            "tags": []
          },
          "execution_count": 20
        }
      ]
    },
    {
      "cell_type": "code",
      "metadata": {
        "id": "5iLO-4A9srw4",
        "colab_type": "code",
        "colab": {}
      },
      "source": [
        "history=model.history"
      ],
      "execution_count": 0,
      "outputs": []
    },
    {
      "cell_type": "code",
      "metadata": {
        "id": "aO-FBeR0ssc-",
        "colab_type": "code",
        "outputId": "1106b911-958a-47c8-f266-3aa38ce2e87e",
        "colab": {
          "base_uri": "https://localhost:8080/",
          "height": 153
        }
      },
      "source": [
        "#print(history.history.keys())\n",
        "for x in history.history.keys():\n",
        "  if x.startswith('val') and x.endswith('acc'):\n",
        "    print(x, \" -- \",  history.history[x][-1])"
      ],
      "execution_count": 0,
      "outputs": [
        {
          "output_type": "stream",
          "text": [
            "val_gender_output_acc  --  0.5383064516129032\n",
            "val_image_quality_output_acc  --  0.5735887096774194\n",
            "val_age_output_acc  --  0.40524193548387094\n",
            "val_weight_output_acc  --  0.6355846774193549\n",
            "val_bag_output_acc  --  0.5574596774193549\n",
            "val_footwear_output_acc  --  0.4425403225806452\n",
            "val_pose_output_acc  --  0.6174395161290323\n",
            "val_emotion_output_acc  --  0.7086693548387096\n"
          ],
          "name": "stdout"
        }
      ]
    },
    {
      "cell_type": "code",
      "metadata": {
        "id": "24JtSbV0sypN",
        "colab_type": "code",
        "colab": {}
      },
      "source": [
        "history=model.history"
      ],
      "execution_count": 0,
      "outputs": []
    },
    {
      "cell_type": "code",
      "metadata": {
        "id": "LoxW0bmpszT3",
        "colab_type": "code",
        "outputId": "a7e7c649-a2e9-4d00-9b6f-8f2b544c3f00",
        "colab": {
          "base_uri": "https://localhost:8080/",
          "height": 54
        }
      },
      "source": [
        "val_loss=[]\n",
        "for i in range(24\n",
        "               ):\n",
        "  sum=0\n",
        "  l = ['val_gender_output_loss','val_image_quality_output_loss',  'val_age_output_loss', 'val_weight_output_loss', 'val_bag_output_loss', 'val_footwear_output_loss', 'val_pose_output_loss',\n",
        " 'val_emotion_output_loss']\n",
        "  for x in l:\n",
        "    sum += history.history[x][i]\n",
        "  val_loss.append(sum)\n",
        "print(val_loss)"
      ],
      "execution_count": 0,
      "outputs": [
        {
          "output_type": "stream",
          "text": [
            "[7.739757574373676, 7.724067475526564, 7.871237987472165, 7.872531517859429, 7.869513942349341, 7.877387498655628, 7.87303860533622, 7.874986106349576, 7.869598392517335, 7.868965701710794, 7.868868629778586, 7.870253014949061, 7.869432318595147, 7.871756296004018, 7.872361021657144, 7.873762895984034, 7.873152913585785, 7.875221606223814, 7.872125183382342, 7.872491328947006, 7.871280941271014, 7.869987620461372, 7.870339549356891, 7.8718164553565355]\n"
          ],
          "name": "stdout"
        }
      ]
    },
    {
      "cell_type": "code",
      "metadata": {
        "id": "RaCDJW_Ss21p",
        "colab_type": "code",
        "colab": {}
      },
      "source": [
        ""
      ],
      "execution_count": 0,
      "outputs": []
    },
    {
      "cell_type": "code",
      "metadata": {
        "id": "GOZ3Ez4ds69W",
        "colab_type": "code",
        "outputId": "3e306a19-03e8-4b61-de76-af7fe4e23f89",
        "colab": {
          "base_uri": "https://localhost:8080/",
          "height": 295
        }
      },
      "source": [
        "  import matplotlib.pyplot as plt\n",
        "  plt.plot(history.history['loss'])\n",
        "  plt.plot(val_loss)\n",
        "  plt.title('model loss')\n",
        "  plt.ylabel('loss')\n",
        "  plt.xlabel('epoch')\n",
        "  plt.legend(['train', 'validation'], loc='upper left')\n",
        "  plt.show()  #no reduction in validation loss"
      ],
      "execution_count": 0,
      "outputs": [
        {
          "output_type": "display_data",
          "data": {
            "image/png": "[encoded data removed]",
            "text/plain": [
              "<Figure size 432x288 with 1 Axes>"
            ]
          },
          "metadata": {
            "tags": []
          }
        }
      ]
    },
    {
      "cell_type": "code",
      "metadata": {
        "id": "PhzE8TkCticl",
        "colab_type": "code",
        "outputId": "5db01938-9110-4812-b976-d7ddc816273c",
        "colab": {
          "base_uri": "https://localhost:8080/",
          "height": 265
        }
      },
      "source": [
        "plt.plot(history.history['val_gender_output_acc'])\n",
        "plt.plot(history.history['val_image_quality_output_acc'])\n",
        "plt.plot(history.history['val_age_output_acc'])\n",
        "plt.plot(history.history['val_weight_output_acc'])\n",
        "plt.plot(history.history['val_bag_output_acc'])\n",
        "plt.plot(history.history['val_footwear_output_acc'])\n",
        "plt.plot(history.history['val_pose_output_acc'])\n",
        "plt.plot(history.history['val_emotion_output_acc'])\n",
        "plt.legend(['gender', 'imgquality','age','weight', 'bag','fw','pose','e'], loc='upper right')\n",
        "plt.show()"
      ],
      "execution_count": 0,
      "outputs": [
        {
          "output_type": "display_data",
          "data": {
            "image/png": "[encoded data removed]",
            "text/plain": [
              "<Figure size 432x288 with 1 Axes>"
            ]
          },
          "metadata": {
            "tags": []
          }
        }
      ]
    },
    {
      "cell_type": "code",
      "metadata": {
        "id": "m7qde8dr9tEy",
        "colab_type": "code",
        "outputId": "014d38ac-a209-41cc-e2db-4bac14cad6c9",
        "colab": {
          "base_uri": "https://localhost:8080/",
          "height": 265
        }
      },
      "source": [
        "h=clr1.history\n",
        "plt.plot(h['loss'])\n",
        "plt.show()"
      ],
      "execution_count": 0,
      "outputs": [
        {
          "output_type": "display_data",
          "data": {
            "image/png": "[encoded data removed]",
            "text/plain": [
              "<Figure size 432x288 with 1 Axes>"
            ]
          },
          "metadata": {
            "tags": []
          }
        }
      ]
    },
    {
      "cell_type": "code",
      "metadata": {
        "id": "Ij-Burkn-C8K",
        "colab_type": "code",
        "outputId": "83af9d24-164f-43be-9a23-65229551d2ab",
        "colab": {
          "base_uri": "https://localhost:8080/",
          "height": 266
        }
      },
      "source": [
        "plt.plot(h['lr'])\n",
        "plt.plot(h['emotion_output_acc']+h['footwear_output_acc']+h['image_quality_output_acc']+h['pose_output_acc']+h['weight_output_acc'])\n",
        "plt.legend(['lr','acc'])\n",
        "plt.show()"
      ],
      "execution_count": 0,
      "outputs": [
        {
          "output_type": "display_data",
          "data": {
            "image/png": "[encoded data removed]",
            "text/plain": [
              "<Figure size 432x288 with 1 Axes>"
            ]
          },
          "metadata": {
            "tags": []
          }
        }
      ]
    },
    {
      "cell_type": "code",
      "metadata": {
        "id": "jPXkoS1u-5lg",
        "colab_type": "code",
        "outputId": "0a7b4fe2-2f39-4fa2-d147-186dd5a0a24f",
        "colab": {
          "base_uri": "https://localhost:8080/",
          "height": 34
        }
      },
      "source": [
        "max(h['lr'])"
      ],
      "execution_count": 0,
      "outputs": [
        {
          "output_type": "execute_result",
          "data": {
            "text/plain": [
              "0.006"
            ]
          },
          "metadata": {
            "tags": []
          },
          "execution_count": 35
        }
      ]
    },
    {
      "cell_type": "code",
      "metadata": {
        "id": "iwLR1VAy_B1G",
        "colab_type": "code",
        "outputId": "748afa89-3533-42ff-dcf6-1849a0615f56",
        "colab": {
          "base_uri": "https://localhost:8080/",
          "height": 34
        }
      },
      "source": [
        "min(h['lr'])"
      ],
      "execution_count": 0,
      "outputs": [
        {
          "output_type": "execute_result",
          "data": {
            "text/plain": [
              "0.001"
            ]
          },
          "metadata": {
            "tags": []
          },
          "execution_count": 37
        }
      ]
    }
  ]
}